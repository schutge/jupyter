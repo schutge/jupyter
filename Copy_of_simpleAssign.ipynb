{
  "nbformat": 4,
  "nbformat_minor": 5,
  "metadata": {
    "language_info": {
      "name": "python",
      "version": "3.7.10",
      "mimetype": "text/x-python",
      "codemirror_mode": {
        "name": "ipython",
        "version": 3
      },
      "pygments_lexer": "ipython3",
      "nbconvert_exporter": "python",
      "file_extension": ".py"
    },
    "kernelspec": {
      "name": "python3",
      "display_name": "Python 3",
      "language": "python"
    },
    "colab": {
      "name": "Copy of simpleAssign.ipynb",
      "provenance": [],
      "include_colab_link": true
    }
  },
  "cells": [
    {
      "cell_type": "markdown",
      "metadata": {
        "id": "view-in-github",
        "colab_type": "text"
      },
      "source": [
        "<a href=\"https://colab.research.google.com/github/schutge/jupyter/blob/main/Copy_of_simpleAssign.ipynb\" target=\"_parent\"><img src=\"https://colab.research.google.com/assets/colab-badge.svg\" alt=\"Open In Colab\"/></a>"
      ]
    },
    {
      "cell_type": "code",
      "metadata": {
        "trusted": true,
        "id": "4Wy3zyH5nwLJ",
        "colab": {
          "base_uri": "https://localhost:8080/"
        },
        "outputId": "4aa65083-f144-4fed-84d3-6ee8284a3dcf"
      },
      "source": [
        "cost = [[5, 9, 1],\n",
        "          [10, 3, 2],\n",
        "          [8, 7, 4]]\n",
        "\n",
        "print(cost)\n"
      ],
      "id": "4Wy3zyH5nwLJ",
      "execution_count": null,
      "outputs": [
        {
          "output_type": "stream",
          "text": [
            "[[5, 9, 1], [10, 3, 2], [8, 7, 4]]\n"
          ],
          "name": "stdout"
        }
      ]
    },
    {
      "cell_type": "markdown",
      "metadata": {
        "id": "9WCs0DLToVAt"
      },
      "source": [
        ""
      ],
      "id": "9WCs0DLToVAt"
    },
    {
      "cell_type": "code",
      "metadata": {
        "id": "F6wHI7SkoWBs",
        "colab": {
          "base_uri": "https://localhost:8080/"
        },
        "outputId": "8db26372-53a7-43e9-b725-f9260d6d2a06"
      },
      "source": [
        "def permute(a, results):\n",
        "    if len(a) == 1:\n",
        "        results.insert(len(results), a)\n",
        "\n",
        "    else:\n",
        "        for i in range(0, len(a)):\n",
        "            element = a[i]\n",
        "            a_copy = [a[j] for j in range(0, len(a)) if j != i]\n",
        "            subresults = []\n",
        "            permute(a_copy, subresults)\n",
        "            for subresult in subresults:\n",
        "                result = [element] + subresult\n",
        "                results.insert(len(results), result)\n",
        "\n",
        "results = []\n",
        "permute(range(len(cost)), results) # [0, 1, 2] for a 3x3 matrix\n",
        "print(results)"
      ],
      "id": "F6wHI7SkoWBs",
      "execution_count": null,
      "outputs": [
        {
          "output_type": "stream",
          "text": [
            "[[0, 1, 2], [0, 2, 1], [1, 0, 2], [1, 2, 0], [2, 0, 1], [2, 1, 0]]\n"
          ],
          "name": "stdout"
        }
      ]
    }
  ]
}